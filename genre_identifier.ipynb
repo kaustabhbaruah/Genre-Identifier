{
  "cells": [
    {
      "cell_type": "code",
      "execution_count": null,
      "metadata": {
        "id": "T3b0Qp6ubFxt",
        "trusted": true
      },
      "outputs": [],
      "source": [
        "import librosa\n",
        "import librosa.feature\n",
        "import librosa.display\n",
        "import glob\n",
        "import numpy as np\n",
        "import matplotlib.pyplot as plt\n",
        "from keras.models import Sequential\n",
        "from keras.layers import Dense, Activation\n",
        "from keras.utils.np_utils import to_categorical"
      ]
    },
    {
      "cell_type": "code",
      "execution_count": null,
      "metadata": {
        "colab": {
          "base_uri": "https://localhost:8080/",
          "height": 340
        },
        "id": "yP7yREPae9xj",
        "outputId": "accbad4e-5a92-4781-c4ac-5f8c4577048c"
      },
      "outputs": [],
      "source": [
        "from google.colab import drive\n",
        "drive.mount('/content/drive')"
      ]
    },
    {
      "cell_type": "code",
      "execution_count": null,
      "metadata": {
        "id": "BKtHD8ynbFxx",
        "trusted": true
      },
      "outputs": [],
      "source": [
        "def display_mfcc(song):\n",
        "    y, _ = librosa.load(song)\n",
        "    mfcc = librosa.feature.mfcc(y)\n",
        "\n",
        "    plt.figure(figsize=(10, 4))\n",
        "    librosa.display.specshow(mfcc, x_axis='time', y_axis='mel')\n",
        "    plt.colorbar()\n",
        "    plt.title(song)\n",
        "    plt.tight_layout()\n",
        "    plt.show()"
      ]
    },
    {
      "cell_type": "code",
      "execution_count": null,
      "metadata": {
        "id": "INuL_qQJbFxz",
        "scrolled": true,
        "trusted": true
      },
      "outputs": [],
      "source": [
        "display_mfcc('../input/gtzan-genre-collection/genres/disco/disco.00035.au')"
      ]
    },
    {
      "cell_type": "code",
      "execution_count": null,
      "metadata": {
        "id": "3ac-30UzbFx1",
        "trusted": true
      },
      "outputs": [],
      "source": [
        "display_mfcc('../input/gtzan-genre-collection/genres/disco/disco.00070.au')"
      ]
    },
    {
      "cell_type": "code",
      "execution_count": null,
      "metadata": {
        "id": "WRtkTxQYbFx3",
        "trusted": true
      },
      "outputs": [],
      "source": [
        "display_mfcc('../input/gtzan-genre-collection/genres/classical/classical.00067.au')"
      ]
    },
    {
      "cell_type": "code",
      "execution_count": null,
      "metadata": {
        "id": "BDZYp-OhbFx5",
        "trusted": false
      },
      "outputs": [],
      "source": [
        "display_mfcc('genres/classical/classical.00010.au')"
      ]
    },
    {
      "cell_type": "code",
      "execution_count": null,
      "metadata": {
        "id": "LQZgLszRbFx7",
        "trusted": false
      },
      "outputs": [],
      "source": [
        "display_mfcc('genres/hiphop/hiphop.00098.au')"
      ]
    },
    {
      "cell_type": "code",
      "execution_count": null,
      "metadata": {
        "id": "lrvZF0kLbFx9",
        "trusted": true
      },
      "outputs": [],
      "source": [
        "display_mfcc('../input/gtzan-genre-collection/genres/hiphop/hiphop.00028.au')"
      ]
    },
    {
      "cell_type": "code",
      "execution_count": null,
      "metadata": {
        "id": "Gz-aGiTgbFx_",
        "trusted": true
      },
      "outputs": [],
      "source": [
        "def extract_features_song(f):\n",
        "    y, _ = librosa.load(f)\n",
        "\n",
        "    # get Mel-frequency cepstral coefficients\n",
        "    mfcc = librosa.feature.mfcc(y)\n",
        "    # normalize values between -1,1 (divide by max)\n",
        "    mfcc /= np.amax(np.absolute(mfcc))\n",
        "\n",
        "    return np.ndarray.flatten(mfcc)[:25000]"
      ]
    },
    {
      "cell_type": "code",
      "execution_count": null,
      "metadata": {
        "id": "WmHrRx6fbFyB",
        "trusted": true
      },
      "outputs": [],
      "source": [
        "def generate_features_and_labels():\n",
        "    all_features = []\n",
        "    all_labels = []\n",
        "\n",
        "    genres = ['blues', 'classical', 'country', 'disco', 'hiphop', 'jazz', 'metal', 'pop', 'reggae', 'rock']\n",
        "    for genre in genres:\n",
        "        sound_files = glob.glob('../input/gtzan-genre-collection/genres/'+genre+'/*.au')\n",
        "        print('Processing %d songs in %s genre...' % (len(sound_files), genre))\n",
        "        for f in sound_files:\n",
        "            features = extract_features_song(f)\n",
        "            all_features.append(features)\n",
        "            all_labels.append(genre)\n",
        "\n",
        "    # convert labels to one-hot encoding\n",
        "    label_uniq_ids, label_row_ids = np.unique(all_labels, return_inverse=True)\n",
        "    label_row_ids = label_row_ids.astype(np.int32, copy=False)\n",
        "    onehot_labels = to_categorical(label_row_ids, len(label_uniq_ids))\n",
        "    return np.stack(all_features), onehot_labels"
      ]
    },
    {
      "cell_type": "code",
      "execution_count": null,
      "metadata": {
        "id": "FQEg_te3bFyD",
        "trusted": true
      },
      "outputs": [],
      "source": [
        "features, labels = generate_features_and_labels()"
      ]
    },
    {
      "cell_type": "code",
      "execution_count": null,
      "metadata": {
        "colab": {
          "base_uri": "https://localhost:8080/",
          "height": 243
        },
        "id": "ozm-3G0ibFyF",
        "outputId": "15675e8e-011c-49eb-cc1f-d4c14a3ada00",
        "trusted": true
      },
      "outputs": [],
      "source": [
        "print(np.shape(features))\n",
        "print(np.shape(labels))\n",
        "\n",
        "training_split = 0.8\n",
        "\n",
        "# last column has genre, turn it into unique ids\n",
        "alldata = np.column_stack((features, labels))\n",
        "\n",
        "np.random.shuffle(alldata)\n",
        "splitidx = int(len(alldata) * training_split)\n",
        "train, test = alldata[:splitidx,:], alldata[splitidx:,:]\n",
        "\n",
        "print(np.shape(train))\n",
        "print(np.shape(test))\n",
        "\n",
        "train_input = train[:,:-10]\n",
        "train_labels = train[:,-10:]\n",
        "\n",
        "test_input = test[:,:-10]\n",
        "test_labels = test[:,-10:]\n",
        "\n",
        "print(np.shape(train_input))\n",
        "print(np.shape(train_labels))"
      ]
    },
    {
      "cell_type": "code",
      "execution_count": null,
      "metadata": {
        "colab": {
          "base_uri": "https://localhost:8080/",
          "height": 243
        },
        "id": "1sAJkvyxbFyH",
        "outputId": "cb8663f0-4ff7-459d-90d0-5dce4c2007de",
        "trusted": true
      },
      "outputs": [],
      "source": [
        "model = Sequential([\n",
        "    Dense(100, input_dim=np.shape(train_input)[1]),\n",
        "    Activation('relu'),\n",
        "    Dense(10),\n",
        "    Activation('softmax'),\n",
        "    ])\n",
        "\n",
        "model.compile(optimizer='adam',\n",
        "              loss='categorical_crossentropy',\n",
        "              metrics=['accuracy'])\n",
        "print(model.summary())\n",
        "\n",
        "model.fit(train_input, train_labels, epochs=150, batch_size=32,\n",
        "          validation_split=0.2)\n",
        "\n",
        "loss, acc = model.evaluate(test_input, test_labels, batch_size=32)\n",
        "\n",
        "print(\"Done!\")\n",
        "print(\"Loss: %.4f, accuracy: %.4f\" % (loss, acc))"
      ]
    },
    {
      "cell_type": "code",
      "execution_count": null,
      "metadata": {
        "_kg_hide-output": true,
        "colab": {
          "base_uri": "https://localhost:8080/",
          "height": 370
        },
        "id": "5dyQgUIabFyJ",
        "outputId": "d1cec445-3b16-45de-feb0-eea463e36981",
        "trusted": true
      },
      "outputs": [],
      "source": [
        "feat = extract_features_song('../input/gtzan-genre-collection/genres/blues/blues.00003.au')\n",
        "\n",
        "feat = feat.reshape(1,25000)\n",
        "\n",
        "pred=model.predict(feat, batch_size=1)\n",
        "genres = ['blues', 'classical', 'country', 'disco', 'hiphop', 'jazz', 'metal', 'pop', 'reggae', 'rock']\n",
        "result = str(genres[np.argmax(np.array(pred[0]))])\n",
        "print(result)"
      ]
    }
  ],
  "metadata": {
    "colab": {
      "provenance": []
    },
    "kernelspec": {
      "display_name": "Python 3",
      "language": "python",
      "name": "python3"
    },
    "language_info": {
      "codemirror_mode": {
        "name": "ipython",
        "version": 3
      },
      "file_extension": ".py",
      "mimetype": "text/x-python",
      "name": "python",
      "nbconvert_exporter": "python",
      "pygments_lexer": "ipython3",
      "version": "3.7.6"
    }
  },
  "nbformat": 4,
  "nbformat_minor": 0
}
